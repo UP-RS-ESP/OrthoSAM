{
 "cells": [
  {
   "cell_type": "code",
   "execution_count": 1,
   "metadata": {},
   "outputs": [],
   "source": [
    "import torch\n",
    "import cv2\n",
    "from segment_anything import SamAutomaticMaskGenerator, sam_model_registry, SamPredictor\n",
    "import numpy as np\n",
    "import matplotlib.pyplot as plt\n",
    "import glob\n",
    "import torch\n",
    "import clip\n",
    "from PIL import Image\n",
    "from tqdm import tqdm\n",
    "import functions as fnc\n",
    "from importlib import reload\n",
    "import gc\n",
    "from skimage.measure import label, regionprops"
   ]
  },
  {
   "cell_type": "code",
   "execution_count": 3,
   "metadata": {},
   "outputs": [
    {
     "name": "stdout",
     "output_type": "stream",
     "text": [
      "Available images:\n",
      "0:512patched_LaPaya.npy\n",
      "1:512patched_mask.npy\n",
      "2:LaPaya_Apr2024_03May24_orthomosaic_5cm_UTM19S_WGS84.tif\n",
      "3:LaPaya_Apr2024_orthomosaic_5cm_UTM19S_WGS84.tif\n",
      "4:Ravi1_DEM_0.6mm.tif\n",
      "5:Ravi1_Orthomosaic_0.2mm.tif\n",
      "6:Ravi1_orthomosaic_from_DEM_0.6mm.tif\n",
      "7:Ravi2_Orthomosaic_0.2mm.tif\n",
      "8:Ravi2_Orthomosaic_0.2mm_clip1.tif\n",
      "9:Ravi3_Orthomosaic_0.2mm.tif\n",
      "10:big_clip.tif\n",
      "11:small_clip1.tif\n",
      "12:small_clip2.tif\n",
      "---------------\n"
     ]
    }
   ],
   "source": [
    "OutDIR='/DATA/vito/output/'\n",
    "DataDIR='/DATA/vito/data/'\n",
    "#fn_img = glob.glob(DataDIR+'test_img/*')\n",
    "fn_img = glob.glob(DataDIR+'drone_ortho/*')\n",
    "fn_img.sort()\n",
    "print('Available images:')\n",
    "for i, fn in enumerate(fn_img):\n",
    "    print(f'{i}:' + fn.split(\"/\")[-1])\n",
    "print(\"---------------\")"
   ]
  },
  {
   "cell_type": "code",
   "execution_count": 4,
   "metadata": {},
   "outputs": [
    {
     "name": "stdout",
     "output_type": "stream",
     "text": [
      "Ravi2_Orthomosaic_0.2mm_clip1.tif imported\n",
      "Image size: (2680, 5125, 3)\n"
     ]
    }
   ],
   "source": [
    "img_select=int(input(\"Select a image: \"))\n",
    "image = cv2.imread(fn_img[img_select])\n",
    "image = cv2.cvtColor(image, cv2.COLOR_BGR2RGB)\n",
    "print(fn_img[img_select].split(\"/\")[-1]+' imported')\n",
    "print('Image size:', image.shape)"
   ]
  },
  {
   "cell_type": "code",
   "execution_count": null,
   "metadata": {},
   "outputs": [],
   "source": [
    "#load mask"
   ]
  },
  {
   "cell_type": "code",
   "execution_count": null,
   "metadata": {},
   "outputs": [],
   "source": [
    "#set_overlap = set()\n",
    "\n",
    "# Iterate through each column of the array\n",
    "#for i in range(ar_masks_flat.shape[1]):\n",
    "    # for each pixel find out the idex of mask where the pixel was in a mask\n",
    "#    nz = np.where(ar_masks_flat[:, i] != 0)[0]\n",
    "    \n",
    "    # if there are overlap of mask\n",
    "#    if len(nz) > 1:\n",
    "#        nz_tuple = tuple(nz)\n",
    "#        set_overlap.add(nz_tuple)\n",
    "\n",
    "# Convert the set back to a list if needed\n",
    "#list_overlap = list(set_overlap)\n",
    "\n",
    "#find pixel wise overlaps\n",
    "#list_overlap=[]\n",
    "#for i in range(ar_masks_flat.shape[1]):\n",
    "#    nz=np.nonzero(ar_masks_flat[:,i])[0]#for each pixel find out the idex of mask where the pixel was in a mask\n",
    "#    if len(nz)>1:#if there are overlap of mask\n",
    "#        if not any(np.array_equal(nz, arr) for arr in list_overlap):\n",
    "#            list_overlap.append(nz)\n",
    "#list_overlap1=[ np.nonzero(ar_masks_flat[:,i])[0] for i in range(ar_masks_flat.shape[1]) if len(np.nonzero(ar_masks_flat[:,i])[0])>1]"
   ]
  },
  {
   "cell_type": "code",
   "execution_count": null,
   "metadata": {},
   "outputs": [],
   "source": [
    "list_of_masks = [fnc.clean_mask(mask['segmentation'].astype(np.uint8)) for mask in masks]#remove small disconnected parts\n",
    "ar_masks=np.stack(list_of_masks)\n",
    "ar_masks_flat=ar_masks.reshape((ar_masks.shape[0],ar_masks.shape[1]*ar_masks.shape[2]))#flat 2d to 1d masks\n",
    "\n",
    "#find pixel wise overlaps\n",
    "list_overlap=[]\n",
    "# Iterate through each column of the array\n",
    "for i in range(ar_masks_flat.shape[1]):\n",
    "    # for each pixel find out the idex of mask where the pixel was in a mask\n",
    "    nz = np.where(ar_masks_flat[:, i] != 0)[0]\n",
    "    \n",
    "    # if there are overlap of mask\n",
    "    if len(nz) > 1:\n",
    "        list_overlap.append(tuple(nz))\n",
    "\n",
    "#get uniqe pairs and intersection area(pixel) for each pair\n",
    "#list_overlap_intersection=[np.unique(np.sum([list_of_masks[i] for i in overlap],axis=0), return_counts=True)[1][-1] for overlap in list_overlap]\n",
    "group_counter=Counter(list_overlap)\n",
    "unique_groups = [list(tup) for tup in group_counter.keys()]\n",
    "group_overlap_area = list(group_counter.values())\n",
    "\n",
    "#filter by intersection area\n",
    "threshold=1000\n",
    "filtered=np.array(group_overlap_area)>threshold\n",
    "unique_groups_thresholded=[unique_groups[i] for i in range(len(unique_groups)) if filtered[i]]\n",
    "#list_overlap_threshold=[list_overlap[i] for i in range(len(list_overlap_intersection)) if list_overlap_intersection[i] > threshold]\n",
    "\n",
    "#report filter\n",
    "print(f'Threshold: {threshold} pixels, {len(list_overlap)-len(unique_groups_thresholded)} groups removed',\n",
    "      '\\nOverlap groups before filtering: {len(list_overlap)}, after filtering: {len(unique_groups_thresholded)}')"
   ]
  },
  {
   "cell_type": "code",
   "execution_count": null,
   "metadata": {},
   "outputs": [],
   "source": [
    "#groupping overlaps\n",
    "\n",
    "#check if there is remaining ungroupped pairs\n",
    "checker=np.zeros(len(masks))\n",
    "for gp in list_overlap_threshold:\n",
    "    for i in gp:\n",
    "        checker[i]+=1\n",
    "remaining_ungroupped=np.max(np.unique(checker))\n",
    "\n",
    "cleaned_groups=None#dummy to identify first run\n",
    "\n",
    "while remaining_ungroupped>1:#keep groupping until there is no overlapping groups\n",
    "    groups=[]\n",
    "\n",
    "    if not cleaned_groups:#the first run\n",
    "        temp_list_overlap=list_overlap_threshold.copy()\n",
    "    else:#>2 run\n",
    "        temp_list_overlap=cleaned_groups.copy()\n",
    "\n",
    "    while len(temp_list_overlap)>1:\n",
    "        temp_group=temp_list_overlap[0].copy()\n",
    "        remaining=[]\n",
    "        for i in np.arange(1,len(temp_list_overlap),1):\n",
    "            num_common_val=len(np.intersect1d(temp_list_overlap[0],temp_list_overlap[i]))\n",
    "            if num_common_val!=0:\n",
    "                temp_group=np.hstack((temp_group,temp_list_overlap[i]))\n",
    "            else:\n",
    "                remaining.append(temp_list_overlap[i])\n",
    "        temp_list_overlap=remaining.copy()\n",
    "        groups.append(temp_group)\n",
    "    groups.append(remaining[0])\n",
    "\n",
    "    #remove duplicated index after stacking\n",
    "    cleaned_groups=[np.unique(group) for group in groups]\n",
    "\n",
    "    checker=np.zeros(len(masks))\n",
    "    for gp in cleaned_groups:\n",
    "        for i in gp:\n",
    "            checker[i]+=1\n",
    "    remaining_ungroupped=np.max(np.unique(checker))"
   ]
  },
  {
   "cell_type": "code",
   "execution_count": null,
   "metadata": {},
   "outputs": [],
   "source": [
    "print(f'{len(cleaned_groups)} groups found\\n')\n",
    "if len(np.unique(np.hstack(cleaned_groups)))==len(np.unique(np.hstack(list_overlap))):\n",
    "    if np.sum(np.unique(np.hstack(cleaned_groups))==np.unique(np.hstack(list_overlap))):\n",
    "        print('nothing missing')\n",
    "    else:\n",
    "        print('Warning: something missing')\n",
    "else:\n",
    "    print('Warning: total number not match')"
   ]
  },
  {
   "cell_type": "code",
   "execution_count": null,
   "metadata": {},
   "outputs": [],
   "source": [
    "for i in cleaned_groups[0]:\n",
    "    print(i)\n",
    "    print((regionprops(label(list_of_masks[i])))[0].area)"
   ]
  },
  {
   "cell_type": "code",
   "execution_count": null,
   "metadata": {},
   "outputs": [],
   "source": [
    "mask1=list_of_masks[62]\n",
    "mask2=list_of_masks[51]\n",
    "intersection = np.logical_and(mask1, mask2)\n",
    "\n",
    "# Calculate the union\n",
    "union = np.logical_or(mask1, mask2)\n",
    "\n",
    "# Calculate the IoU\n",
    "iou = np.sum(intersection) / np.sum(union)\n",
    "iou"
   ]
  },
  {
   "cell_type": "code",
   "execution_count": null,
   "metadata": {},
   "outputs": [],
   "source": [
    "#plot group\n",
    "import matplotlib.gridspec as gridspec\n",
    "k=3\n",
    "# Create a figure\n",
    "fig = plt.figure(figsize=(20, 20))\n",
    "\n",
    "num_rows=int(np.ceil((len(cleaned_groups[k])/3)))+1\n",
    "gs = gridspec.GridSpec(num_rows, 3, height_ratios=list((np.ones(num_rows).astype(int))))\n",
    "\n",
    "ax_big = fig.add_subplot(gs[0, :])\n",
    "ax_big.imshow(shrinked_image)\n",
    "ax_big.imshow(np.sum(np.stack([list_of_masks[i] for i in cleaned_groups[k]]),axis=0), alpha=0.3)\n",
    "ax_big.set_title('RGB overlay')\n",
    "\n",
    "j=0\n",
    "for i in range(len(cleaned_groups[k])):\n",
    "    ax = fig.add_subplot(gs[(i//3)+1, j])\n",
    "    ax.imshow(list_of_masks[cleaned_groups[k][i]])\n",
    "    ax.set_title(f'{cleaned_groups[k][i]}')\n",
    "\n",
    "    if j==2:\n",
    "        j=0\n",
    "    else:\n",
    "        j+=1\n",
    "\n",
    "plt.tight_layout()\n",
    "plt.show()"
   ]
  },
  {
   "cell_type": "code",
   "execution_count": null,
   "metadata": {},
   "outputs": [],
   "source": [
    "mask1=list_of_masks[cleaned_groups[k][1]]\n",
    "mask2=list_of_masks[cleaned_groups[k][6]]\n",
    "intersection = np.logical_and(mask1, mask2)\n",
    "\n",
    "np.sum(intersection)\n",
    "#base on l band check if these are bright side and shadow side and by comparing a b band see if they are identical?"
   ]
  },
  {
   "cell_type": "code",
   "execution_count": null,
   "metadata": {},
   "outputs": [],
   "source": [
    "target=60\n",
    "overlaps_with_target=[]\n",
    "for ls in list_overlap:\n",
    "    if np.any(target == ls[0]):\n",
    "        overlaps_with_target.append(ls[0])"
   ]
  },
  {
   "cell_type": "code",
   "execution_count": null,
   "metadata": {},
   "outputs": [],
   "source": [
    "overlaps_with_target=np.unique(np.hstack(overlaps_with_target))\n",
    "overlaps_with_target=overlaps_with_target[overlaps_with_target != target]\n",
    "overlaps_with_target"
   ]
  },
  {
   "cell_type": "code",
   "execution_count": null,
   "metadata": {},
   "outputs": [],
   "source": [
    "np.unique(label(ar_masks[60]))"
   ]
  },
  {
   "cell_type": "code",
   "execution_count": null,
   "metadata": {},
   "outputs": [],
   "source": [
    "labels = label(ar_masks[60])\n",
    "regions = regionprops(labels)\n",
    "\n",
    "# Sort regions by area\n",
    "sorted_regions = sorted(regions, key=lambda x: x.area, reverse=True)\n",
    "\n",
    "# Print sorted regions by area\n",
    "for region in sorted_regions:\n",
    "    print(f\"Label: {region.label}, Area: {region.area}\")"
   ]
  },
  {
   "cell_type": "code",
   "execution_count": null,
   "metadata": {},
   "outputs": [],
   "source": [
    "plt.imshow(label(ar_masks[60])==2)"
   ]
  },
  {
   "cell_type": "code",
   "execution_count": null,
   "metadata": {},
   "outputs": [],
   "source": [
    "plt.imshow(np.sum(ar_masks[overlaps_with_target],axis=0))"
   ]
  }
 ],
 "metadata": {
  "kernelspec": {
   "display_name": ".venv",
   "language": "python",
   "name": "python3"
  },
  "language_info": {
   "codemirror_mode": {
    "name": "ipython",
    "version": 3
   },
   "file_extension": ".py",
   "mimetype": "text/x-python",
   "name": "python",
   "nbconvert_exporter": "python",
   "pygments_lexer": "ipython3",
   "version": "3.8.10"
  }
 },
 "nbformat": 4,
 "nbformat_minor": 2
}
