{
 "cells": [
  {
   "cell_type": "code",
   "execution_count": 1,
   "metadata": {},
   "outputs": [],
   "source": [
    "import torch\n",
    "import cv2\n",
    "from segment_anything import sam_model_registry, SamPredictor\n",
    "from segment_anything import SamAutomaticMaskGenerator_mod2 as SamAutomaticMaskGenerator\n",
    "import numpy as np\n",
    "import matplotlib.pyplot as plt\n",
    "import glob\n",
    "import torch\n",
    "import functions as fnc\n",
    "from importlib import reload\n",
    "import gc\n",
    "from skimage.measure import label, regionprops\n",
    "from collections import Counter\n",
    "from torchvision.ops.boxes import batched_nms\n",
    "from sklearn.neighbors import KDTree\n",
    "import matplotlib.colors as mcolors\n",
    "import os\n",
    "import time\n",
    "import sys\n",
    "import json\n",
    "import pandas as pd\n",
    "from contextlib import redirect_stdout"
   ]
  },
  {
   "cell_type": "code",
   "execution_count": 2,
   "metadata": {},
   "outputs": [
    {
     "name": "stdout",
     "output_type": "stream",
     "text": [
      "Loaded parameters from json\n",
      "{'OutDIR': '/DATA/vito/output/ran_synth_32_bw/ran_synth_32_bw_00_dw4_cp1024_3b/', 'DataDIR': '/DATA/vito/data/', 'DatasetName': 'ran_synth_32_bw/img/*', 'fid': 0, 'crop_size': 1024, 'resample_factor': 1, 'point_per_side': 30, 'dilation_size': 15, 'b': 100, 'stability_t': 0.85, 'third_b_resample_factor': 0.08333333333333333, 'resolution(mm)': 0.2, 'expected_min_size(sqmm)': 0, 'min_radius': 0}\n"
     ]
    }
   ],
   "source": [
    "OutDIR='/DATA/vito/output/ran_synth_32_bw/ran_synth_32_bw_00_dw4_cp1024_3b/'\n",
    "with open(OutDIR+'init_para.json', 'r') as json_file:\n",
    "    init_para = json.load(json_file)\n",
    "print('Loaded parameters from json')\n",
    "print(init_para)"
   ]
  },
  {
   "cell_type": "code",
   "execution_count": 3,
   "metadata": {},
   "outputs": [
    {
     "name": "stdout",
     "output_type": "stream",
     "text": [
      "Minimum expected size: 0.0 pixel\n"
     ]
    }
   ],
   "source": [
    "OutDIR=init_para.get('OutDIR')\n",
    "DataDIR=init_para.get('DataDIR')\n",
    "DSname=init_para.get('DatasetName')\n",
    "fid=init_para.get('fid')\n",
    "pps=init_para.get('point_per_side')\n",
    "#window_step=init_para.get('window_step')\n",
    "b=init_para.get('b')\n",
    "stb_t=init_para.get('stability_t')\n",
    "#defining clips\n",
    "crop_size=init_para.get('crop_size')\n",
    "resample_factor=init_para.get('resample_factor')\n",
    "min_pixel=(init_para.get('expected_min_size(sqmm)')/(init_para.get('resolution(mm)')**2))*resample_factor\n",
    "min_radi=init_para.get('min_radius')\n",
    "print(f'Minimum expected size: {min_pixel} pixel')"
   ]
  },
  {
   "cell_type": "code",
   "execution_count": 4,
   "metadata": {},
   "outputs": [
    {
     "name": "stdout",
     "output_type": "stream",
     "text": [
      "Loaded preprocessing parameters from json\n",
      "{'Resample': {'fxy': 1}}\n"
     ]
    }
   ],
   "source": [
    "\n",
    "pre_para={'Resample': {'fxy':resample_factor},\n",
    "        #'Gaussian': {'kernel size':3}\n",
    "        #'CLAHE':{'clip limit':2}#,\n",
    "        #'Resample': {'fxy':4},\n",
    "        #'Buffering': {'crop size': crop_size}\n",
    "        }\n",
    "try:#attempt to load saved init_para\n",
    "    with open(OutDIR+'pre_para.json', 'r') as json_file:\n",
    "        init_para = json.load(json_file)\n",
    "    print('Loaded preprocessing parameters from json')\n",
    "    print(pre_para)\n",
    "except:#use defined init_para\n",
    "    print('Using preprocessing default')\n",
    "    print(pre_para)"
   ]
  },
  {
   "cell_type": "code",
   "execution_count": 5,
   "metadata": {},
   "outputs": [
    {
     "name": "stdout",
     "output_type": "stream",
     "text": [
      "img_00.npy imported\n",
      "Image size: (10000, 10000, 3)\n",
      "Not resampling\n",
      "Tiled into 144 patches\n"
     ]
    }
   ],
   "source": [
    "#Prep\n",
    "#load image\n",
    "image=fnc.load_image(DataDIR,DSname,fid)\n",
    "print('Image size:', image.shape)\n",
    "image=fnc.preprocessing_roulette(image, pre_para)\n",
    "\n",
    "patches = fnc.get_image_patches(image, crop_size, 2*b)\n",
    "print(f'Tiled into {len(patches)} patches')\n",
    "patch_keys=patches.keys()\n",
    "max_ij=np.max(np.array(list(patch_keys)),axis=0)"
   ]
  },
  {
   "cell_type": "code",
   "execution_count": 6,
   "metadata": {},
   "outputs": [
    {
     "name": "stdout",
     "output_type": "stream",
     "text": [
      "Currently running on GPU\n",
      "Model vit_h\n"
     ]
    },
    {
     "name": "stderr",
     "output_type": "stream",
     "text": [
      "/DATA/vito/.venv/lib/python3.12/site-packages/segment_anything/build_sam.py:105: FutureWarning: You are using `torch.load` with `weights_only=False` (the current default value), which uses the default pickle module implicitly. It is possible to construct malicious pickle data which will execute arbitrary code during unpickling (See https://github.com/pytorch/pytorch/blob/main/SECURITY.md#untrusted-models for more details). In a future release, the default value for `weights_only` will be flipped to `True`. This limits the functions that could be executed during unpickling. Arbitrary objects will no longer be allowed to be loaded via this mode unless they are explicitly allowlisted by the user via `torch.serialization.add_safe_globals`. We recommend you start setting `weights_only=True` for any use case where you don't have full control of the loaded file. Please open an issue on GitHub for any issues related to this experimental feature.\n",
      "  state_dict = torch.load(f)\n"
     ]
    }
   ],
   "source": [
    "#setup SAM\n",
    "MODEL_TYPE = \"vit_h\"\n",
    "DEVICE, CHECKPOINT_PATH=fnc.set_sam(MODEL_TYPE,DataDIR)\n",
    "\n",
    "sam = sam_model_registry[MODEL_TYPE](checkpoint=CHECKPOINT_PATH)\n",
    "sam.to(device=DEVICE)\n",
    "mask_generator = SamAutomaticMaskGenerator(sam)"
   ]
  },
  {
   "cell_type": "code",
   "execution_count": null,
   "metadata": {},
   "outputs": [],
   "source": []
  }
 ],
 "metadata": {
  "kernelspec": {
   "display_name": ".venv",
   "language": "python",
   "name": "python3"
  },
  "language_info": {
   "codemirror_mode": {
    "name": "ipython",
    "version": 3
   },
   "file_extension": ".py",
   "mimetype": "text/x-python",
   "name": "python",
   "nbconvert_exporter": "python",
   "pygments_lexer": "ipython3",
   "version": "3.12.3"
  }
 },
 "nbformat": 4,
 "nbformat_minor": 2
}
