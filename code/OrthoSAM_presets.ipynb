{
 "cells": [
  {
   "cell_type": "code",
   "execution_count": null,
   "id": "fd6100a2",
   "metadata": {},
   "outputs": [],
   "source": [
    "# segment a large orthomosaic with preset parameters\n",
    "from OrthoSAM import large_orthosam\n",
    "OutDIR='Ravi2'\n",
    "DatasetName='Ravi'\n",
    "fid='Ravi2_orthomosaic_02mm.png'\n",
    "resolution=0.2\n",
    "large_orthosam(OutDIR, DatasetName,fid,resolution)\n"
   ]
  },
  {
   "cell_type": "code",
   "execution_count": null,
   "id": "abf07c16",
   "metadata": {},
   "outputs": [],
   "source": [
    "# segment compact fine objects with preset parameters\n",
    "from OrthoSAM import compact_fine_objects\n",
    "OutDIR='Sedinet_select/sedinet_1'\n",
    "DatasetName='sedinet/SediNet/images'\n",
    "fid='5_6.JPG'\n",
    "resolution=1\n",
    "compact_fine_objects(OutDIR, DatasetName,fid,resolution)"
   ]
  }
 ],
 "metadata": {
  "kernelspec": {
   "display_name": ".venv",
   "language": "python",
   "name": "python3"
  },
  "language_info": {
   "codemirror_mode": {
    "name": "ipython",
    "version": 3
   },
   "file_extension": ".py",
   "mimetype": "text/x-python",
   "name": "python",
   "nbconvert_exporter": "python",
   "pygments_lexer": "ipython3",
   "version": "3.12.3"
  }
 },
 "nbformat": 4,
 "nbformat_minor": 5
}
