{
 "cells": [
  {
   "cell_type": "code",
   "execution_count": null,
   "id": "83faa02e",
   "metadata": {},
   "outputs": [],
   "source": [
    "from synthetic_generator import generator, shadow_image_generator, noise_image_generator\n",
    "import sys\n",
    "sys.path.append(\"..\")\n",
    "from OrthoSAM import orthosam\n",
    "from utility import setup, load_config\n",
    "import os"
   ]
  },
  {
   "cell_type": "code",
   "execution_count": 7,
   "id": "0f090bc7",
   "metadata": {},
   "outputs": [],
   "source": [
    "config = load_config()"
   ]
  },
  {
   "cell_type": "code",
   "execution_count": null,
   "id": "6ecde410",
   "metadata": {},
   "outputs": [],
   "source": [
    "# generate B&W synthetic images\n",
    "Dir=os.path.join(config['DataDIR'],'synthetic','synthetic_01_3000_bw')\n",
    "generator(Dir=Dir, min_radi=1, max_radi=3000\n",
    "          , image_size=10000, num_circles=5000, max_attempts=100\n",
    "          , overlap=False, ran_color=False, generate_dem=True\n",
    "          )"
   ]
  },
  {
   "cell_type": "code",
   "execution_count": null,
   "id": "084d2db0",
   "metadata": {},
   "outputs": [],
   "source": [
    "# generate colored synthetic images\n",
    "Dir=os.path.join(config['DataDIR'],'synthetic','synthetic_01_3000_cl')\n",
    "generator(Dir=Dir, min_radi=1, max_radi=3000\n",
    "          , image_size=10000, num_circles=5000, max_attempts=100\n",
    "          , overlap=False, ran_color=True, generate_dem=True\n",
    "          )\n",
    "\n",
    "# generate synthetic images with noise with existing baseline image\n",
    "baseline_Dir=os.path.join(config['DataDIR'],'synthetic','synthetic_01_3000_cl')\n",
    "Dir=os.path.join(config['DataDIR'],'synthetic','synthetic_01_3000_cl_noise_192')\n",
    "noise_image_generator(baseline_Dir=baseline_Dir, Dir=Dir, min_radi=1, max_radi=3000\n",
    "                      , image_size=10000, num_circles=5000, max_attempts=100\n",
    "                      , overlap=False, ran_color=True, generate_dem=True\n",
    "                      , std=192)"
   ]
  },
  {
   "cell_type": "code",
   "execution_count": null,
   "id": "68de10e5",
   "metadata": {},
   "outputs": [],
   "source": [
    "# generate synthetic images with shadows without existing baseline image\n",
    "Dir='data/synthetic/synthetic_01_3000_cl_shadow_0_45'\n",
    "shadow_image_generator(Dir=Dir, min_radi=1, max_radi=3000\n",
    "                       , image_size=10000, num_circles=5000, max_attempts=100\n",
    "                       , overlap=False, ran_color=True, generate_dem=True\n",
    "                       , azimuth=0, inclination=45)"
   ]
  },
  {
   "cell_type": "code",
   "execution_count": null,
   "id": "d4099156",
   "metadata": {},
   "outputs": [],
   "source": [
    "#segmentation\n",
    "main_para={'OutDIR': os.path.join(config['BaseDIR'],'output','synthetic_01_3000_cl_shadow_0_45'),# where output will be stored\n",
    "        'DatasetName': 'synthetic/synthetic_01_3000_cl_shadow_0_45',\n",
    "        'fid': 'img.npy',#Filename or the index after sorting by file name.\n",
    "        'resolution(mm)': 1,#image resolution in mm/pixel\n",
    "        'tile_size': 1024,\n",
    "        'tile_overlap':200,\n",
    "        'resample_factor': 1,#'Auto': auto select resample rate.\n",
    "        'input_point_per_axis': 30,\n",
    "        'dilation_size':5,\n",
    "        'stability_t':0.85,\n",
    "        'expected_min_size(sqmm)': 500,\n",
    "        'min_radius': 0,\n",
    "        'Discord_notification': True,# True: send discord when finished.\n",
    "        'Plotting': True# True: plot the results\n",
    "        }\n",
    "#specify for individual layers. e.g. different point_per_side\n",
    "passes_para_list=[\n",
    "    {'resample_factor':0.5, #'Auto': auto select resample rate.\n",
    "        }\n",
    "    ]\n",
    "#parameters for preprocessing. If no preprocessing is needed, leave empty or remove it.\n",
    "pre_para_list=[{#'Gaussian': {'kernel size':3},\n",
    "                #'CLAHE':{'clip limit':2},\n",
    "                #'Downsample': {'fxy':4},\n",
    "                #'Buffering': {'crop size': crop_size}\n",
    "            },{},{}]\n",
    "\n",
    "#If no preprocessing is needed, remove pre_para_list or use None.\n",
    "passes_para_list=setup(main_para, passes_para_list, pre_para_list)\n",
    "\n",
    "orthosam(passes_para_list)"
   ]
  },
  {
   "cell_type": "code",
   "execution_count": null,
   "id": "ce766b5d",
   "metadata": {},
   "outputs": [],
   "source": [
    "#assessment of synthetic images\n",
    "from synthetic_assessment import accuracy\n",
    "segmentation_output_Dir=os.path.join(config['BaseDIR'],'output','synthetic_01_3000_cl_shadow_0_45')\n",
    "accuracy(Dir=segmentation_output_Dir, shadow=True)"
   ]
  }
 ],
 "metadata": {
  "kernelspec": {
   "display_name": ".venv",
   "language": "python",
   "name": "python3"
  },
  "language_info": {
   "codemirror_mode": {
    "name": "ipython",
    "version": 3
   },
   "file_extension": ".py",
   "mimetype": "text/x-python",
   "name": "python",
   "nbconvert_exporter": "python",
   "pygments_lexer": "ipython3",
   "version": "3.12.3"
  }
 },
 "nbformat": 4,
 "nbformat_minor": 5
}
