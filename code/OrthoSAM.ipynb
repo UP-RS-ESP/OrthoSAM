{
 "cells": [
  {
   "cell_type": "code",
   "execution_count": null,
   "id": "a3ccc4a6",
   "metadata": {},
   "outputs": [],
   "source": [
    "import subprocess\n",
    "import json\n",
    "import os\n",
    "import time\n",
    "import glob\n",
    "import sys\n",
    "import functions as fnc\n",
    "run_DS = \"code/run_DS.py\""
   ]
  },
  {
   "cell_type": "code",
   "execution_count": 5,
   "id": "3fc3f991",
   "metadata": {},
   "outputs": [],
   "source": [
    "#for id in range(3)[2:]:\n",
    "id=None\n",
    "\n",
    "master_para={'OutDIR': f'/DATA/vito/output/Arg_clipped_org_dw2_b200_48pps/',\n",
    "    'DataDIR': '/DATA/vito/data/',\n",
    "    'DatasetName': 'ImageGrains_v1_data/field_examples/*',\n",
    "    'fid': id,\n",
    "    'crop_size': 1024,\n",
    "    'resample_factor': 1,\n",
    "    '1st_resample_factor': 1,\n",
    "    'point_per_side': 48,\n",
    "    'dilation_size':1,\n",
    "    'min_size_factor':0.0001,\n",
    "    'b':200,\n",
    "    'stability_t':0.85,\n",
    "    'resolution(mm)': 0.5,\n",
    "    'expected_min_size(sqmm)': 10,\n",
    "    'min_radius': 0\n",
    "    }\n",
    "para_list=[\n",
    "    {},\n",
    "    {'n_pass_resample_factor':1/2, #None: use method A. 1: auto select resample rate.\n",
    "    }\n",
    "    ]\n",
    "pre_para_list=[{#'Gaussian': {'kernel size':3},\n",
    "                #'CLAHE':{'clip limit':2},\n",
    "                #'Downsample': {'fxy':4},\n",
    "                #'Buffering': {'crop size': crop_size}\n",
    "            },{},{}]"
   ]
  },
  {
   "cell_type": "code",
   "execution_count": 6,
   "id": "1150ea2a",
   "metadata": {},
   "outputs": [
    {
     "name": "stdout",
     "output_type": "stream",
     "text": [
      "0 :  /DATA/vito/data/ImageGrains_v1_data/field_examples/FH.jpg\n",
      "1 :  /DATA/vito/data/ImageGrains_v1_data/field_examples/FH_field.csv\n",
      "2 :  /DATA/vito/data/ImageGrains_v1_data/field_examples/FH_images_manual.csv\n",
      "3 :  /DATA/vito/data/ImageGrains_v1_data/field_examples/FH_pred.tif\n",
      "4 :  /DATA/vito/data/ImageGrains_v1_data/field_examples/K1.jpg\n",
      "5 :  /DATA/vito/data/ImageGrains_v1_data/field_examples/K1_field.csv\n",
      "6 :  /DATA/vito/data/ImageGrains_v1_data/field_examples/K1_pred.tif\n",
      "7 :  /DATA/vito/data/ImageGrains_v1_data/field_examples/S1.jpg\n",
      "8 :  /DATA/vito/data/ImageGrains_v1_data/field_examples/S1_field.csv\n",
      "9 :  /DATA/vito/data/ImageGrains_v1_data/field_examples/S1_pred.tif\n",
      "--------------\n",
      "/DATA/vito/data/ImageGrains_v1_data/field_examples/FH_field.csv selected\n"
     ]
    }
   ],
   "source": [
    "if not os.path.exists(master_para.get('DataDIR')+master_para.get('DatasetName')[:-1]):\n",
    "    print('Input directory does not exist. Exiting script.')\n",
    "    sys.exit()\n",
    "\n",
    "OutDIR=master_para.get('OutDIR')\n",
    "fnc.create_dir_ifnotexist(OutDIR)\n",
    "if master_para.get('fid')==None:\n",
    "    master_para=fnc.prompt_fid(master_para)"
   ]
  },
  {
   "cell_type": "code",
   "execution_count": null,
   "id": "f07d963b",
   "metadata": {},
   "outputs": [],
   "source": [
    "DataDIR = para.get('DataDIR')\n",
    "DSname = para.get('DatasetName')\n",
    "fid = para.get('fid')\n",
    "crop_size = para.get('crop_size')\n",
    "overlap = para.get('b')\n",
    "image=fnc.load_image(DataDIR,DSname,fid)\n",
    "\n",
    "plt.figure(figsize=(15,10))\n",
    "fnc.plot_tiling_with_overlap(prep_image, (crop_size,crop_size), overlap)"
   ]
  },
  {
   "cell_type": "code",
   "execution_count": null,
   "id": "8604165a",
   "metadata": {},
   "outputs": [],
   "source": [
    "\n",
    "\n",
    "# Save init_para to a JSON file\n",
    "lst = [dict(master_para, **para) for para in para_list]\n",
    "with open(OutDIR+f'init_para.json', 'w') as json_file:\n",
    "    json.dump(lst, json_file, indent=4)\n",
    "with open(OutDIR+f'pre_para.json', 'w') as json_file:\n",
    "    json.dump(pre_para_list, json_file, indent=4)"
   ]
  },
  {
   "cell_type": "code",
   "execution_count": null,
   "id": "fd6100a2",
   "metadata": {},
   "outputs": [],
   "source": [
    "subprocess.run([\"python\", run_DS, OutDIR])"
   ]
  }
 ],
 "metadata": {
  "kernelspec": {
   "display_name": ".venv",
   "language": "python",
   "name": "python3"
  },
  "language_info": {
   "codemirror_mode": {
    "name": "ipython",
    "version": 3
   },
   "file_extension": ".py",
   "mimetype": "text/x-python",
   "name": "python",
   "nbconvert_exporter": "python",
   "pygments_lexer": "ipython3",
   "version": "3.12.3"
  }
 },
 "nbformat": 4,
 "nbformat_minor": 5
}
